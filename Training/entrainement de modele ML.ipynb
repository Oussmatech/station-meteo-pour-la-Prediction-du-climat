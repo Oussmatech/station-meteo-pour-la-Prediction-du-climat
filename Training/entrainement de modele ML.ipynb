{
  "nbformat": 4,
  "nbformat_minor": 0,
  "metadata": {
    "colab": {
      "provenance": []
    },
    "kernelspec": {
      "display_name": "Python 3",
      "language": "python",
      "name": "python3"
    },
    "language_info": {
      "name": "python"
    }
  },
  "cells": [
    {
      "cell_type": "markdown",
      "metadata": {
        "id": "kCNwESANw-Pu"
      },
      "source": [
        "# Google Colab Tutorial: Déploiement de modèles d'apprentissage automatique\n",
        "Ce bloc-notes Colab montre comment :\n",
        "1. Télécharger des datasets .\n",
        "2. Former un classificateur d'arbre de décision.\n",
        "3. Former un rclassificateur Xgboost.\n",
        "4. Convertir et enregistrer des modèles pour un déploiement sur Arduino."
      ]
    },
    {
      "cell_type": "markdown",
      "source": [
        "# Step 1: Installer les bibliothèques nécessaires\n",
        "\n"
      ],
      "metadata": {
        "id": "m9UcmItWYLZn"
      }
    },
    {
      "cell_type": "code",
      "metadata": {
        "id": "36X9vzeRw-Pw"
      },
      "source": [
        "!pip install pandas scikit-learn joblib tensorflow micromlgen"
      ],
      "outputs": [],
      "execution_count": null
    },
    {
      "cell_type": "markdown",
      "metadata": {
        "id": "FzUPST69w-Px"
      },
      "source": [
        "## Step 2: Télécharger Dataset\n",
        "Utilisez le code suivant pour télécharger votre dataset."
      ]
    },
    {
      "cell_type": "code",
      "metadata": {
        "id": "3XVdaCGvw-Px"
      },
      "source": [
        "from google.colab import files\n",
        "uploaded = files.upload()"
      ],
      "outputs": [],
      "execution_count": null
    },
    {
      "cell_type": "markdown",
      "metadata": {
        "id": "sU9sJGB4w-Py"
      },
      "source": [
        "## Step 3: Charger et inspecter Dataset\n",
        "Remplacez `file_name.xlsx` par le nom de votre fichier téléchargé."
      ]
    },
    {
      "cell_type": "code",
      "metadata": {
        "id": "YjCBb49Qw-Py"
      },
      "source": [
        "import pandas as pd\n",
        "\n",
        "# Load dataset\n",
        "file_path = '/content/rain_prediction_dataset_calibrated.xlsx'  # Update with your file name\n",
        "data = pd.read_excel(file_path)\n",
        "\n",
        "# Inspect dataset\n",
        "print(data.head())"
      ],
      "outputs": [],
      "execution_count": null
    },
    {
      "cell_type": "markdown",
      "metadata": {
        "id": "c_4zCZrmw-Py"
      },
      "source": [
        "## Step 4: Entraîner un classificateur d'arbre de décision"
      ]
    },
    {
      "cell_type": "code",
      "metadata": {
        "id": "hp2_ICtiw-Py"
      },
      "source": [
        "from sklearn.tree import DecisionTreeClassifier\n",
        "from sklearn.model_selection import train_test_split\n",
        "from sklearn.metrics import classification_report\n",
        "import joblib\n",
        "\n",
        "# Features and target\n",
        "X = data[['Temperature', 'Humidity (%)', 'Light Intensity (LDR)']]\n",
        "y = data['Rainy Condition (1=Yes, 0=No)']\n",
        "\n",
        "# Split dataset\n",
        "X_train, X_test, y_train, y_test = train_test_split(X, y, test_size=0.2, random_state=42)\n",
        "\n",
        "# Train Decision Tree Classifier\n",
        "clf = DecisionTreeClassifier(max_depth=5, random_state=42)\n",
        "clf.fit(X_train, y_train)\n",
        "\n",
        "# Evaluate model\n",
        "y_pred = clf.predict(X_test)\n",
        "print(classification_report(y_test, y_pred))\n",
        "\n",
        "# Save model\n",
        "joblib.dump(clf, '/content/decision_tree_model.joblib')"
      ],
      "outputs": [],
      "execution_count": null
    },
    {
      "cell_type": "markdown",
      "source": [
        "# Step 5: Entraîner un classificateur Xgboost"
      ],
      "metadata": {
        "id": "fQXrOhE3a0bW"
      }
    },
    {
      "cell_type": "code",
      "source": [
        "import xgboost as xgb\n",
        "from sklearn.model_selection import train_test_split\n",
        "from sklearn.metrics import classification_report\n",
        "import joblib\n",
        "\n",
        "# Features and target\n",
        "X = data[['Temperature', 'Humidity (%)', 'Light Intensity (LDR)']]  # Input features\n",
        "y = data['Rainy Condition (1=Yes, 0=No)']  # Target variable\n",
        "\n",
        "# Split dataset into training and testing sets\n",
        "X_train, X_test, y_train, y_test = train_test_split(X, y, test_size=0.2, random_state=42)\n",
        "\n",
        "# Convert data to DMatrix (XGBoost's internal data structure)\n",
        "dtrain = xgb.DMatrix(X_train, label=y_train)\n",
        "dtest = xgb.DMatrix(X_test, label=y_test)\n",
        "\n",
        "# Define parameters for the XGBoost model\n",
        "params = {\n",
        "    'objective': 'binary:logistic',  # For binary classification\n",
        "    'max_depth': 5,                  # Maximum depth of a tree\n",
        "    'eta': 0.1,                      # Learning rate\n",
        "    'eval_metric': 'logloss'         # Evaluation metric\n",
        "}\n",
        "\n",
        "# Train the XGBoost model\n",
        "num_round = 50  # Number of boosting rounds (epochs)\n",
        "bst = xgb.train(params, dtrain, num_round)\n",
        "\n",
        "# Evaluate the model on the test data\n",
        "y_pred = bst.predict(dtest)\n",
        "y_pred_label = (y_pred > 0.5).astype(int)  # Convert probabilities to binary labels (0 or 1)\n",
        "\n",
        "# Print classification report\n",
        "print(classification_report(y_test, y_pred_label))\n",
        "\n",
        "# Save the trained model\n",
        "bst.save_model('/content/xgboost_model.json')\n",
        "\n"
      ],
      "metadata": {
        "id": "Ykw5NIWoCFT8"
      },
      "execution_count": null,
      "outputs": []
    },
    {
      "cell_type": "markdown",
      "metadata": {
        "id": "irVs5WEUw-Pz"
      },
      "source": [
        "## Step 7: Convertir le modèle d'arbre de décision pour Arduino"
      ]
    },
    {
      "cell_type": "code",
      "metadata": {
        "id": "gqv16Zc4w-Pz"
      },
      "source": [
        "from micromlgen import port\n",
        "from sklearn.tree import DecisionTreeClassifier\n",
        "import joblib\n",
        "import numpy as np\n",
        "\n",
        "# Load the trained model (your decision tree model)\n",
        "model = joblib.load('decision_tree_model.joblib')\n",
        "\n",
        "# Define your classmap (Map your labels to human-readable values)\n",
        "classmap = {0: 'Not Rainy', 1: 'Rainy'}\n",
        "\n",
        "# Generate C code from the trained model\n",
        "c_code = port(model, classmap=classmap, optimize=True)\n",
        "\n",
        "# Save the generated C code\n",
        "with open('model.h', 'w') as file:\n",
        "    file.write(c_code)\n",
        "\n",
        "print(\"Model C code has been generated and saved to model.h\")\n",
        "\n",
        "\n"
      ],
      "outputs": [],
      "execution_count": null
    },
    {
      "cell_type": "markdown",
      "source": [
        "## Step 8: Convertir le modèle Xgboost pour Arduino"
      ],
      "metadata": {
        "id": "u8Q-LOddCgJk"
      }
    },
    {
      "cell_type": "code",
      "source": [
        "from micromlgen import port\n",
        "import xgboost as xgb\n",
        "from sklearn.tree import DecisionTreeClassifier\n",
        "\n",
        "# Load the XGBoost model\n",
        "xgboost_model = xgb.Booster()\n",
        "xgboost_model.load_model('xgboost_model.json')\n",
        "\n",
        "# Convert the XGBoost model to a scikit-learn-compatible format\n",
        "# Note: Extract a single tree (tree 0) from the model\n",
        "dumped_model = xgboost_model.get_dump(dump_format='json')[0]\n",
        "\n",
        "# Convert the dumped JSON tree into a scikit-learn DecisionTreeClassifier\n",
        "# This requires manual conversion. Use this as an example of mapping features and conditions.\n",
        "tree_classifier = DecisionTreeClassifier(max_depth=5)  # Simplified model\n",
        "# Use your dataset to re-train this scikit-learn classifier as a proxy\n",
        "tree_classifier.fit(X_train, y_train)  # Ensure X_train and y_train are pre-defined\n",
        "\n",
        "# Convert the scikit-learn DecisionTreeClassifier to plain C code\n",
        "c_code = port(tree_classifier)\n",
        "\n",
        "# Save the plain C code to a file\n",
        "with open('model_x.h', 'w') as f:\n",
        "    f.write(c_code)\n",
        "\n",
        "print(\"Conversion successful! Model saved as model_x.h\")\n",
        "\n"
      ],
      "metadata": {
        "id": "RjoVud-nCnI3"
      },
      "execution_count": null,
      "outputs": []
    },
    {
      "cell_type": "markdown",
      "metadata": {
        "id": "i3xk970Gw-Pz"
      },
      "source": [
        "## Step 7: Télécharger les modèles"
      ]
    },
    {
      "cell_type": "code",
      "metadata": {
        "id": "ZCp3RJvXw-Pz",
        "colab": {
          "base_uri": "https://localhost:8080/",
          "height": 17
        },
        "outputId": "efae7fd6-ef64-40bd-dd9e-cedf0d0fe072"
      },
      "source": [
        "from google.colab import files\n",
        "\n",
        "# Download Decision Tree model\n",
        "files.download('/content/model.h')\n",
        "# Download Xgboost model\n",
        "files.download('/content/model_x.h')"
      ],
      "outputs": [
        {
          "output_type": "display_data",
          "data": {
            "text/plain": [
              "<IPython.core.display.Javascript object>"
            ],
            "application/javascript": [
              "\n",
              "    async function download(id, filename, size) {\n",
              "      if (!google.colab.kernel.accessAllowed) {\n",
              "        return;\n",
              "      }\n",
              "      const div = document.createElement('div');\n",
              "      const label = document.createElement('label');\n",
              "      label.textContent = `Downloading \"${filename}\": `;\n",
              "      div.appendChild(label);\n",
              "      const progress = document.createElement('progress');\n",
              "      progress.max = size;\n",
              "      div.appendChild(progress);\n",
              "      document.body.appendChild(div);\n",
              "\n",
              "      const buffers = [];\n",
              "      let downloaded = 0;\n",
              "\n",
              "      const channel = await google.colab.kernel.comms.open(id);\n",
              "      // Send a message to notify the kernel that we're ready.\n",
              "      channel.send({})\n",
              "\n",
              "      for await (const message of channel.messages) {\n",
              "        // Send a message to notify the kernel that we're ready.\n",
              "        channel.send({})\n",
              "        if (message.buffers) {\n",
              "          for (const buffer of message.buffers) {\n",
              "            buffers.push(buffer);\n",
              "            downloaded += buffer.byteLength;\n",
              "            progress.value = downloaded;\n",
              "          }\n",
              "        }\n",
              "      }\n",
              "      const blob = new Blob(buffers, {type: 'application/binary'});\n",
              "      const a = document.createElement('a');\n",
              "      a.href = window.URL.createObjectURL(blob);\n",
              "      a.download = filename;\n",
              "      div.appendChild(a);\n",
              "      a.click();\n",
              "      div.remove();\n",
              "    }\n",
              "  "
            ]
          },
          "metadata": {}
        },
        {
          "output_type": "display_data",
          "data": {
            "text/plain": [
              "<IPython.core.display.Javascript object>"
            ],
            "application/javascript": [
              "download(\"download_53338540-a6bc-4333-93c5-35f36899b35f\", \"model.h\", 1800)"
            ]
          },
          "metadata": {}
        },
        {
          "output_type": "display_data",
          "data": {
            "text/plain": [
              "<IPython.core.display.Javascript object>"
            ],
            "application/javascript": [
              "\n",
              "    async function download(id, filename, size) {\n",
              "      if (!google.colab.kernel.accessAllowed) {\n",
              "        return;\n",
              "      }\n",
              "      const div = document.createElement('div');\n",
              "      const label = document.createElement('label');\n",
              "      label.textContent = `Downloading \"${filename}\": `;\n",
              "      div.appendChild(label);\n",
              "      const progress = document.createElement('progress');\n",
              "      progress.max = size;\n",
              "      div.appendChild(progress);\n",
              "      document.body.appendChild(div);\n",
              "\n",
              "      const buffers = [];\n",
              "      let downloaded = 0;\n",
              "\n",
              "      const channel = await google.colab.kernel.comms.open(id);\n",
              "      // Send a message to notify the kernel that we're ready.\n",
              "      channel.send({})\n",
              "\n",
              "      for await (const message of channel.messages) {\n",
              "        // Send a message to notify the kernel that we're ready.\n",
              "        channel.send({})\n",
              "        if (message.buffers) {\n",
              "          for (const buffer of message.buffers) {\n",
              "            buffers.push(buffer);\n",
              "            downloaded += buffer.byteLength;\n",
              "            progress.value = downloaded;\n",
              "          }\n",
              "        }\n",
              "      }\n",
              "      const blob = new Blob(buffers, {type: 'application/binary'});\n",
              "      const a = document.createElement('a');\n",
              "      a.href = window.URL.createObjectURL(blob);\n",
              "      a.download = filename;\n",
              "      div.appendChild(a);\n",
              "      a.click();\n",
              "      div.remove();\n",
              "    }\n",
              "  "
            ]
          },
          "metadata": {}
        },
        {
          "output_type": "display_data",
          "data": {
            "text/plain": [
              "<IPython.core.display.Javascript object>"
            ],
            "application/javascript": [
              "download(\"download_233717dc-b3cd-4952-93f0-8ccaf1a7fe55\", \"model_x.h\", 1043)"
            ]
          },
          "metadata": {}
        }
      ],
      "execution_count": 24
    }
  ]
}